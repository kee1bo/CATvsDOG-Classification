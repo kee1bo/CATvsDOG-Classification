{
 "cells": [
  {
   "cell_type": "code",
   "execution_count": 53,
   "id": "5ceafee6",
   "metadata": {},
   "outputs": [],
   "source": [
    "#import dependencies \n",
    "import cv2 \n",
    "import numpy as np\n",
    "import os\n",
    "from random import shuffle\n",
    "from tqdm import tqdm\n"
   ]
  },
  {
   "cell_type": "code",
   "execution_count": 54,
   "id": "e061ffde",
   "metadata": {},
   "outputs": [],
   "source": [
    "# path to train and test data\n",
    "train_dir = 'train'\n",
    "test_dir = 'test'"
   ]
  },
  {
   "cell_type": "code",
   "execution_count": 55,
   "id": "fd9f5a84",
   "metadata": {},
   "outputs": [],
   "source": [
    "# LR = Learning Rate\n",
    "# IMG_SIZE as a constant to deal image diversity\n",
    "IMG_SIZE = 50\n",
    "LR = 1e-3"
   ]
  },
  {
   "cell_type": "code",
   "execution_count": 56,
   "id": "03b2285e",
   "metadata": {},
   "outputs": [],
   "source": [
    "# model name to refer back, if needed\n",
    "modelName = 'dogvscat:LR-{}-{}'.format(LR,'2Conv')"
   ]
  },
  {
   "cell_type": "code",
   "execution_count": 57,
   "id": "a9c32771",
   "metadata": {},
   "outputs": [
    {
     "name": "stdout",
     "output_type": "stream",
     "text": [
      "dogvscat:LR-0.001-2Conv\n"
     ]
    }
   ],
   "source": [
    "print(modelName)"
   ]
  },
  {
   "cell_type": "code",
   "execution_count": 58,
   "id": "599271ca",
   "metadata": {},
   "outputs": [],
   "source": [
    "# function to label images of training data\n",
    "def label_img(img):\n",
    "    word_label = img.split('.')[-3]\n",
    "    if word_label == 'cat':\n",
    "        return [1,0]\n",
    "    else: \n",
    "        return [0,1]"
   ]
  },
  {
   "cell_type": "code",
   "execution_count": 59,
   "id": "c81fa28f",
   "metadata": {},
   "outputs": [],
   "source": [
    "# converting images to numpy arrays using cv2\n",
    "# image=feature; label = dog/cat;0/1\n",
    "def create_train_data():\n",
    "    training_data=[]\n",
    "    for img in tqdm(os.listdir(train_dir)):\n",
    "        label = label_img(img) # we have labels for images in train data\n",
    "        path = os.path.join(train_dir,img) \n",
    "        img = cv2.imread(path,cv2.IMREAD_GRAYSCALE)\n",
    "        resize_img = cv2.resize(img,(IMG_SIZE,IMG_SIZE))\n",
    "        training_data.append([np.array(resize_img), np.array(label)])\n",
    "    shuffle(training_data)\n",
    "    np.save('training_data.npy',training_data)\n",
    "    return training_data"
   ]
  },
  {
   "cell_type": "code",
   "execution_count": 60,
   "id": "79abc31f",
   "metadata": {},
   "outputs": [],
   "source": [
    "def process_test_data():\n",
    "    testing_data = []\n",
    "    for img in tqdm(os.listdir(test_dir)):\n",
    "        path = os.path.join(test_dir,img)\n",
    "        img_num = img.split('.')[0] # we don't have labels for images in test data,\n",
    "                                     # have to predict it\n",
    "        img = cv2.imread(path,cv2.IMREAD_GRAYSCALE)\n",
    "        resize_img = cv2.resize(img,(IMG_SIZE,IMG_SIZE))\n",
    "        testing_data.append([np.array(resize_img),img_num]) # img_num for reference(index)\n",
    "    np.save('test_data.npy',testing_data)\n",
    "        \n",
    "\n",
    "        return testing_data"
   ]
  },
  {
   "cell_type": "code",
   "execution_count": 61,
   "id": "f2bbacbc",
   "metadata": {},
   "outputs": [],
   "source": [
    "# Processed this data before dividing the images into two directories/folders\n",
    "#train_data = create_train_data()\n",
    "# if you already have train data\n",
    "\n",
    "train_data = np.load('training_data.npy', allow_pickle=True)"
   ]
  },
  {
   "cell_type": "code",
   "execution_count": 62,
   "id": "0fd8aeec",
   "metadata": {},
   "outputs": [],
   "source": []
  },
  {
   "cell_type": "code",
   "execution_count": 63,
   "id": "bcb5aecc",
   "metadata": {},
   "outputs": [],
   "source": [
    "# import tflearn\n",
    "# from tflearn.layers.conv import conv_2d, max_pool_2d\n",
    "# from tflearn.layers.core import input_data, dropout, fully_connected\n",
    "# from tflearn.layers.estimator import regression\n"
   ]
  },
  {
   "cell_type": "code",
   "execution_count": 64,
   "id": "468dbca7",
   "metadata": {},
   "outputs": [],
   "source": [
    "# convnet = input_data(shape=[None,IMG_SIZE,IMG_SIZE,1],name='input')\n",
    "\n",
    "# convnet = conv_2d(convnet,32,2,activation='relu')\n",
    "# convnet = max_pool_2d(convnet,2)\n",
    "\n",
    "# convnet = conv_2d(convnet,64,2,activation='relu')\n",
    "# convnet = max_pool_2d(convnet,2)\n",
    "\n",
    "# convnet = fully_connected(convnet,1024,activation='relu')\n",
    "# convnet = dropout(convnet,0.8)\n",
    "\n",
    "# convnet = fully_connected(convnet,2,activation='softmax')\n",
    "# convnet = regression(convnet,optimizer='adam',learning_rate=LR,loss='categorical_crossentropy',name='targets')\n",
    "\n",
    "# model = tflearn.DNN(convnet,tensorboard_dir='log')"
   ]
  },
  {
   "cell_type": "code",
   "execution_count": null,
   "id": "3ff3daa5",
   "metadata": {
    "scrolled": true
   },
   "outputs": [],
   "source": []
  },
  {
   "cell_type": "code",
   "execution_count": null,
   "id": "6d546ac0",
   "metadata": {},
   "outputs": [],
   "source": []
  },
  {
   "cell_type": "code",
   "execution_count": null,
   "id": "6130ad05",
   "metadata": {},
   "outputs": [],
   "source": []
  },
  {
   "cell_type": "code",
   "execution_count": null,
   "id": "c501b4e3",
   "metadata": {},
   "outputs": [],
   "source": []
  }
 ],
 "metadata": {
  "kernelspec": {
   "display_name": "Python 3 (ipykernel)",
   "language": "python",
   "name": "python3"
  },
  "language_info": {
   "codemirror_mode": {
    "name": "ipython",
    "version": 3
   },
   "file_extension": ".py",
   "mimetype": "text/x-python",
   "name": "python",
   "nbconvert_exporter": "python",
   "pygments_lexer": "ipython3",
   "version": "3.8.12"
  }
 },
 "nbformat": 4,
 "nbformat_minor": 5
}
